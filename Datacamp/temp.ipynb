{
 "cells": [
  {
   "cell_type": "code",
   "execution_count": 34,
   "metadata": {},
   "outputs": [],
   "source": [
    "from scipy.stats import bernoulli, binom, describe\n",
    "import matplotlib.pyplot as plt"
   ]
  },
  {
   "cell_type": "markdown",
   "metadata": {},
   "source": [
    "# Bernoulli"
   ]
  },
  {
   "cell_type": "code",
   "execution_count": null,
   "metadata": {},
   "outputs": [],
   "source": [
    "brn = bernoulli.rvs(p=0.5, size=9)\n",
    "brn"
   ]
  },
  {
   "cell_type": "markdown",
   "metadata": {},
   "source": [
    "$\\begin{cases}\n",
    "  P(k=0) = 1 - p\\\\    \n",
    "  P(k=1) = p    \n",
    "\\end{cases}$\n",
    "\n",
    "**Loi de Bernoulli**"
   ]
  },
  {
   "cell_type": "code",
   "execution_count": null,
   "metadata": {},
   "outputs": [],
   "source": [
    "bernoulli.pmf(p=0.3, k=0) # k = 0 or 1 p must be <= 1"
   ]
  },
  {
   "cell_type": "markdown",
   "metadata": {},
   "source": [
    "# Binomial"
   ]
  },
  {
   "cell_type": "code",
   "execution_count": 46,
   "metadata": {},
   "outputs": [
    {
     "data": {
      "text/plain": [
       "array([1, 1, 1, 1, 0, 0, 1, 1, 1])"
      ]
     },
     "execution_count": 46,
     "metadata": {},
     "output_type": "execute_result"
    }
   ],
   "source": [
    "bnm = binom.rvs(p=0.5, n=1, size=9)\n",
    "bnm"
   ]
  },
  {
   "cell_type": "markdown",
   "metadata": {},
   "source": [
    "$$binom.pmf(k,n,p) = \\begin{pmatrix}n\\\\k\\end{pmatrix}p^k(1-p)^{n-k}$$\n",
    "\n",
    "**Loi Binomial**"
   ]
  },
  {
   "cell_type": "code",
   "execution_count": null,
   "metadata": {},
   "outputs": [],
   "source": [
    "loibinom = binom.pmf(k=2, n=10, p=0.5) #probabilité d'avoir exactement 5 faces après 10 repetition avec un jeton parfait\n",
    "loibinom"
   ]
  },
  {
   "cell_type": "code",
   "execution_count": null,
   "metadata": {},
   "outputs": [],
   "source": [
    "cdfbinom = binom.cdf(k=5, n=10, p=0.5) #probabilité d'avoir 5 faces de plus après 10 repetition avec un jeton parfait\n",
    "cdfbinom"
   ]
  },
  {
   "cell_type": "code",
   "execution_count": null,
   "metadata": {},
   "outputs": [],
   "source": [
    "cdfbinom1 = 1 - binom.cdf(k=5, n=10, p=0.5) #probabilité d'avoir au moins 5 faces après 10 repetition avec un jeton parfait\n",
    "cdfbinom1\n",
    "cdfbinom1 = binom.sf(k=5, n=10, p=0.5) #probabilité d'avoir au moins 5 faces après 10 repetition avec un jeton parfait\n",
    "cdfbinom1"
   ]
  },
  {
   "cell_type": "markdown",
   "metadata": {},
   "source": [
    "$$E(X) = \\sum_{i=0}^{k} x_{i}p_{i} = x_{1}p_{1} + x_{2}p_{2} + \\dots + x_{k}p_{k}$$\n",
    "\n",
    "**Espérance**\n",
    "\n",
    "$$\n",
    "V(X) = E(X²) - E²(X)\n",
    "$$\n",
    "\n",
    "**Variance**"
   ]
  },
  {
   "cell_type": "code",
   "execution_count": 94,
   "metadata": {},
   "outputs": [
    {
     "name": "stdout",
     "output_type": "stream",
     "text": [
      "(array(0.3), array(0.21))\n"
     ]
    },
    {
     "data": {
      "text/plain": [
       "0.2526315789473685"
      ]
     },
     "execution_count": 94,
     "metadata": {},
     "output_type": "execute_result"
    }
   ],
   "source": [
    "print(binom.stats(n=1, p=0.3)) #Afficher l'esperance puis la variance\n",
    "describe(binom.rvs(n=1, p=0.3, size=20)).variance"
   ]
  },
  {
   "cell_type": "markdown",
   "metadata": {},
   "source": [
    "# Variables aléatoires discrètes\n",
    "|                   | **Bernoulli** |**Binomial**   | **Géométrique**  |  **Poisson**  | **Uniforme**  | **Hypergéométrique**  |\n",
    "|        -          |       -       |       -       |        -         |       -       |       -       |          -            |\n",
    "| ${\\bf X(\\Omega)}$     | ${0, 1}$     | $\\{0, 1, 2, \\dots, n\\}$ | $\\{ 1, 2, \\dots, n\\}$ | $\\mathbb{N}$ | $\\{a, \\dots, n\\}$ | - |\n",
    "| $\\textbf{Notation}$   | $X \\sim B(p)$ | $X \\sim B(p, n)\\\\p\\in\\space]0, 1[$ | $X \\sim Geom(p)$ | $X \\sim P(\\lambda)\\\\\\lambda > 0$ | $X \\sim U(X(\\Omega)) $ | - |\n",
    "| $\\textbf{Loi}$        | $\\begin{cases}P(k=0) = 1 - p\\\\P(k=1) = p\\end{cases}$ | $P(X=k)=\\begin{pmatrix}n\\\\k\\end{pmatrix}p^k(1-p)^{n-k}$ | $P(X=k) = (1-p)^{k-1}.p$ | $P(X=k) = e^{-\\lambda}.\\frac{(\\lambda^k)}{k!}$ | $P(X=k) = \\frac{1}{n}$ | - |\n",
    "| ${\\bf E(X)}$          | $p$ | $n.p$ | $\\frac{1}{p}$ | $\\lambda$ | $\\frac{n+1}{2}$ | $n.p$ |\n",
    "| ${\\bf V(X)}$          | $p\\space(1-p)$ | $n.p.(1-p)$ | $\\frac{1-p}{p²}$|$\\lambda$ | $\\frac{n²+1}{12}$ | - |\n",
    "| ${\\bf \\sigma(X)}$           | $\\sqrt{p\\space(1-p)}$ | $\\sqrt{n.p.(1-p)}$ | $\\frac{\\sqrt{1-p}}{p}$ | $\\sqrt{\\lambda}$ | $\\sqrt{\\frac{n²+1}{12}} $ | - |"
   ]
  },
  {
   "cell_type": "code",
   "execution_count": 29,
   "metadata": {},
   "outputs": [],
   "source": [
    "coin_flips, p, sample_size, averages = 1, 0.5, 1000, []"
   ]
  },
  {
   "cell_type": "code",
   "execution_count": 30,
   "metadata": {},
   "outputs": [],
   "source": [
    "samples = binom.rvs(n=coin_flips, p=p, size=sample_size, random_state=42)"
   ]
  },
  {
   "cell_type": "code",
   "execution_count": 31,
   "metadata": {},
   "outputs": [],
   "source": [
    "for i in range(2, sample_size+1):\n",
    "    averages.append(describe(samples[0:i]).mean)"
   ]
  },
  {
   "cell_type": "code",
   "execution_count": 32,
   "metadata": {},
   "outputs": [
    {
     "data": {
      "text/plain": [
       "[0.5,\n",
       " 0.6666666666666666,\n",
       " 0.75,\n",
       " 0.6,\n",
       " 0.5,\n",
       " 0.42857142857142855,\n",
       " 0.5,\n",
       " 0.5555555555555556,\n",
       " 0.6,\n",
       " 0.5454545454545454]"
      ]
     },
     "execution_count": 32,
     "metadata": {},
     "output_type": "execute_result"
    }
   ],
   "source": [
    "averages[:10]"
   ]
  },
  {
   "cell_type": "code",
   "execution_count": 48,
   "metadata": {},
   "outputs": [
    {
     "data": {
      "image/png": "[encoded data removed]",
      "text/plain": [
       "<Figure size 432x288 with 1 Axes>"
      ]
     },
     "metadata": {
      "needs_background": "light"
     },
     "output_type": "display_data"
    }
   ],
   "source": [
    "plt.axhline(binom.mean(n=coin_flips, p=p))\n",
    "plt.plot(averages, 'r-')\n",
    "plt.legend((\"Population mean\", \"Sample mean\"), loc='upper right')\n",
    "plt.show()"
   ]
  }
 ],
 "metadata": {
  "interpreter": {
   "hash": "eb09de4696d2597df9005b1eb3109db67c75ac89a9b6dda260a25be19379e92c"
  },
  "kernelspec": {
   "display_name": "Python 3.9.7 64-bit ('proba': conda)",
   "language": "python",
   "name": "python3"
  },
  "language_info": {
   "codemirror_mode": {
    "name": "ipython",
    "version": 3
   },
   "file_extension": ".py",
   "mimetype": "text/x-python",
   "name": "python",
   "nbconvert_exporter": "python",
   "pygments_lexer": "ipython3",
   "version": "3.9.7"
  },
  "orig_nbformat": 4
 },
 "nbformat": 4,
 "nbformat_minor": 2
}
