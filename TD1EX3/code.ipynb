{
 "cells": [
  {
   "cell_type": "code",
   "execution_count": null,
   "metadata": {},
   "outputs": [],
   "source": [
    "from random import randint\n",
    "from itertools import combinations"
   ]
  },
  {
   "cell_type": "code",
   "execution_count": null,
   "metadata": {},
   "outputs": [],
   "source": [
    "ELEMENTS = [\"7\", \"8\", \"9\", \"10\", \"Roi\", \"Dame\", \"Valet\", \"As\"]\n",
    "CARTES = [[\"Coeurs\", ELEMENTS[i]] for i in range(8)]\n",
    "CARTES += [[\"Trefles\", ELEMENTS[i]] for i in range(8)]\n",
    "CARTES += [[\"Carreaux\", ELEMENTS[i]] for i in range(8)]\n",
    "CARTES += [[\"Piques\", ELEMENTS[i]] for i in range(8)]"
   ]
  },
  {
   "cell_type": "code",
   "execution_count": null,
   "metadata": {},
   "outputs": [],
   "source": [
    "OMEGA = list(combinations(CARTES, 8))"
   ]
  },
  {
   "cell_type": "code",
   "execution_count": null,
   "metadata": {},
   "outputs": [],
   "source": [
    "cardOMEGA = len(list(OMEGA))\n",
    "OMEGA"
   ]
  },
  {
   "cell_type": "code",
   "execution_count": null,
   "metadata": {},
   "outputs": [],
   "source": [
    "def simuler():\n",
    "    CARTEStemp = CARTES.copy()\n",
    "    S=[]\n",
    "    for k in range(8):\n",
    "        x=randint(0,len(CARTEStemp)-1)\n",
    "        S+=[CARTEStemp.pop(x)]\n",
    "    S.sort()\n",
    "    return(S)"
   ]
  },
  {
   "cell_type": "code",
   "execution_count": null,
   "metadata": {},
   "outputs": [],
   "source": [
    "simuler()"
   ]
  },
  {
   "cell_type": "code",
   "execution_count": null,
   "metadata": {},
   "outputs": [],
   "source": [
    "def sim():\n",
    "    S = []\n",
    "    OMEGAx = OMEGA.copy()\n",
    "    while len(S) < 8:\n",
    "        x = randint(0, cardOMEGA - 1)\n",
    "        S += OMEGAx.pop(x)\n",
    "    S.sort()\n",
    "    return S"
   ]
  },
  {
   "cell_type": "code",
   "execution_count": null,
   "metadata": {},
   "outputs": [],
   "source": [
    "sim()"
   ]
  }
 ],
 "metadata": {
  "interpreter": {
   "hash": "eb09de4696d2597df9005b1eb3109db67c75ac89a9b6dda260a25be19379e92c"
  },
  "kernelspec": {
   "display_name": "Python 3.9.7 64-bit ('proba': conda)",
   "language": "python",
   "name": "python3"
  },
  "language_info": {
   "codemirror_mode": {
    "name": "ipython",
    "version": 3
   },
   "file_extension": ".py",
   "mimetype": "text/x-python",
   "name": "python",
   "nbconvert_exporter": "python",
   "pygments_lexer": "ipython3",
   "version": "3.9.7"
  },
  "orig_nbformat": 4
 },
 "nbformat": 4,
 "nbformat_minor": 2
}
