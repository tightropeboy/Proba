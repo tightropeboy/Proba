{
 "cells": [
  {
   "cell_type": "code",
   "execution_count": 40,
   "metadata": {},
   "outputs": [],
   "source": [
    "from random import randint\n",
    "from itertools import combinations\n",
    "from re import compile\n",
    "from fractions import Fraction"
   ]
  },
  {
   "cell_type": "code",
   "execution_count": 41,
   "metadata": {},
   "outputs": [],
   "source": [
    "ELEMENTS = [\"7\", \"8\", \"9\", \"10\", \"Roi\", \"Dame\", \"Valet\", \"As\"]\n",
    "CARTES = [\"Coeur\" + \" \" + ELEMENTS[i] for i in range(8)]\n",
    "CARTES += [\"Trefle\" + \" \" + ELEMENTS[i] for i in range(8)]\n",
    "CARTES += [\"Carreau\" + \" \" + ELEMENTS[i] for i in range(8)]\n",
    "CARTES += [\"Pique\" + \" \" + ELEMENTS[i] for i in range(8)]\n",
    "#CARTES est l'ensemble des cartes"
   ]
  },
  {
   "cell_type": "markdown",
   "metadata": {},
   "source": [
    "$$\\Omega$$"
   ]
  },
  {
   "cell_type": "code",
   "execution_count": 42,
   "metadata": {},
   "outputs": [],
   "source": [
    "OMEGA = list(combinations(CARTES, 8)) #Les cas possibles du tirage de 8 cartes simultanément et au hasard."
   ]
  },
  {
   "cell_type": "code",
   "execution_count": 43,
   "metadata": {},
   "outputs": [],
   "source": [
    "cardOMEGA = len(OMEGA) #Cardinal d'omega."
   ]
  },
  {
   "cell_type": "markdown",
   "metadata": {},
   "source": [
    "# Cardinal d'evenement 'Obtenir 2 AS exactement du tirage'"
   ]
  },
  {
   "cell_type": "code",
   "execution_count": null,
   "metadata": {},
   "outputs": [],
   "source": [
    "# i = 0\n",
    "# event_cardinal = 0\n",
    "# while i < len(OMEGA):\n",
    "#     if len(list(filter(compile(\".*As\").match, OMEGA[i]))) == 2:\n",
    "#         event_cardinal += 1\n",
    "#     i += 1\n",
    "#     pass"
   ]
  },
  {
   "cell_type": "markdown",
   "metadata": {},
   "source": [
    "# Fonction qui retourne la probabilité d'un evenement\n",
    "# << Avoir exactement\n",
    "# **{0, 1, 2, 3, 4, 5, 6, 7, 8}** $\\cap$\n",
    "# **{\"7\", \"8\", \"9\", \"10\", \"Roi\", \"Dame\", \"Valet\", \"As\", \"Coeur\", \"Trefle\", \"Pique\", \"Carreau\"}** >>\n",
    "\n",
    "> Le tirage est de tirer 8 cartes simultanément et au hasard"
   ]
  },
  {
   "cell_type": "code",
   "execution_count": 44,
   "metadata": {},
   "outputs": [],
   "source": [
    "def avoirexactement(pouravoir: str, combien: int, **kwargs) -> float:\n",
    "    \"\"\"\n",
    "    pouravoir = {\"7\", \"8\", \"9\", \"10\", \"Roi\", \"Dame\", \"Valet\", \"As\", \"Coeur\", \"Trefle\", \"Pique\", \"Carreau\"}: String\n",
    "    combien = {0, 1, 2, 3, 4, 5, 6, 7, 8}: Entier\n",
    "    **fraction = True or False(default): Booléen\n",
    "    \"\"\"\n",
    "    numeroTirage = 0\n",
    "    event_cardinal = 0\n",
    "    while numeroTirage < len(OMEGA): #Parcourir les cas possibles du tirage\n",
    "        if len(list(filter(compile(\".*{}\".format(pouravoir)).match, OMEGA[numeroTirage]))) == combien:\n",
    "            event_cardinal += 1\n",
    "        numeroTirage += 1\n",
    "    try:\n",
    "        return Fraction(event_cardinal/cardOMEGA) if kwargs['fraction'] == True else event_cardinal/cardOMEGA\n",
    "    except:\n",
    "        return event_cardinal/cardOMEGA"
   ]
  },
  {
   "cell_type": "markdown",
   "metadata": {},
   "source": [
    "# Avoir exactement 2 As:"
   ]
  },
  {
   "cell_type": "code",
   "execution_count": 45,
   "metadata": {},
   "outputs": [],
   "source": [
    "event1 = avoirexactement(\"As\", 1, fraction = True)"
   ]
  },
  {
   "cell_type": "code",
   "execution_count": null,
   "metadata": {},
   "outputs": [],
   "source": [
    "event1"
   ]
  },
  {
   "cell_type": "code",
   "execution_count": null,
   "metadata": {},
   "outputs": [],
   "source": [
    "float(event1)"
   ]
  },
  {
   "cell_type": "markdown",
   "metadata": {},
   "source": [
    "# Avoir exactement 3 Pique:"
   ]
  },
  {
   "cell_type": "code",
   "execution_count": null,
   "metadata": {},
   "outputs": [],
   "source": [
    "event2 = avoirexactement(\"Pique\", 3, fraction = True)"
   ]
  },
  {
   "cell_type": "code",
   "execution_count": null,
   "metadata": {},
   "outputs": [],
   "source": [
    "event2"
   ]
  },
  {
   "cell_type": "code",
   "execution_count": null,
   "metadata": {},
   "outputs": [],
   "source": [
    "float(event2)"
   ]
  },
  {
   "cell_type": "markdown",
   "metadata": {},
   "source": [
    "# Avoir exactement 3 Pique *et* 2 As:"
   ]
  },
  {
   "cell_type": "code",
   "execution_count": null,
   "metadata": {},
   "outputs": [],
   "source": [
    "event3 = event1 * event2"
   ]
  },
  {
   "cell_type": "code",
   "execution_count": null,
   "metadata": {},
   "outputs": [],
   "source": [
    "event3"
   ]
  },
  {
   "cell_type": "markdown",
   "metadata": {},
   "source": [
    "# Avoir exactement 3 Pique *ou* 2 As:"
   ]
  },
  {
   "cell_type": "code",
   "execution_count": null,
   "metadata": {},
   "outputs": [],
   "source": [
    "event4 = event1 + event2"
   ]
  },
  {
   "cell_type": "code",
   "execution_count": null,
   "metadata": {},
   "outputs": [],
   "source": [
    "event4"
   ]
  },
  {
   "cell_type": "code",
   "execution_count": null,
   "metadata": {},
   "outputs": [],
   "source": [
    "event1 = avoirexactement(\"As\", 2, fraction = True)"
   ]
  },
  {
   "cell_type": "code",
   "execution_count": null,
   "metadata": {},
   "outputs": [],
   "source": [
    "float(event4)"
   ]
  },
  {
   "cell_type": "markdown",
   "metadata": {},
   "source": [
    "# Fonction pour sélectionner un cas possible du tirage en question"
   ]
  },
  {
   "cell_type": "code",
   "execution_count": null,
   "metadata": {},
   "outputs": [],
   "source": [
    "def simuler():\n",
    "    CARTEStemp = CARTES.copy()\n",
    "    S=[]\n",
    "    for tirage in range(8):\n",
    "        x=randint(0,len(CARTEStemp)-1)\n",
    "        S+=[CARTEStemp.pop(x)]\n",
    "    S.sort()\n",
    "    return(S)"
   ]
  },
  {
   "cell_type": "code",
   "execution_count": null,
   "metadata": {},
   "outputs": [],
   "source": [
    "simuler()"
   ]
  }
 ],
 "metadata": {
  "interpreter": {
   "hash": "eb09de4696d2597df9005b1eb3109db67c75ac89a9b6dda260a25be19379e92c"
  },
  "kernelspec": {
   "display_name": "Python 3.9.7 64-bit ('proba': conda)",
   "language": "python",
   "name": "python3"
  },
  "language_info": {
   "codemirror_mode": {
    "name": "ipython",
    "version": 3
   },
   "file_extension": ".py",
   "mimetype": "text/x-python",
   "name": "python",
   "nbconvert_exporter": "python",
   "pygments_lexer": "ipython3",
   "version": "3.9.7"
  },
  "orig_nbformat": 4
 },
 "nbformat": 4,
 "nbformat_minor": 2
}
